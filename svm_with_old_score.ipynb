{
 "cells": [
  {
   "cell_type": "code",
   "execution_count": 8,
   "metadata": {
    "collapsed": true
   },
   "outputs": [],
   "source": [
    "import pandas as pd\n",
    "import numpy as np\n",
    "import random as rd\n",
    "from sklearn.svm import SVC\n",
    "from sklearn import metrics\n",
    "from sklearn.metrics import accuracy_score"
   ]
  },
  {
   "cell_type": "code",
   "execution_count": 9,
   "metadata": {
    "collapsed": true
   },
   "outputs": [],
   "source": [
    "# convert to numeric, drop nas and other [currently] irrelevant features\n",
    "def preprocess(filename):\n",
    "    df = pd.read_csv(filename+'.csv', sep=\",\")\n",
    "    # removing unnecessary columns. keeping only numbers atm\n",
    "    unnecessary = ['Body','ClosedDate','CommunityOwnedDate','CreationDate','Id','LastActivityDate',\n",
    "              'LastEditDate','LastEditorUserId','LastEditorDisplayName','OwnerDisplayName',\n",
    "              'OwnerUserId','ParentId','Tags','Title','Clean_Text','AcceptedAnswerId','Score',\n",
    "              'AnswerCount', 'CommentCount', 'FavoriteCount', 'PostTypeId','ViewCount']\n",
    "    droppable = np.intersect1d(df.columns,unnecessary)\n",
    "    df = df.drop(droppable, 1)\n",
    "    df = df.dropna()\n",
    "    if df.shape[0]>30000:\n",
    "        df = df[:30000]\n",
    "    return df"
   ]
  },
  {
   "cell_type": "code",
   "execution_count": 10,
   "metadata": {
    "collapsed": true
   },
   "outputs": [],
   "source": [
    "# Split Data Into Train and Test Data\n",
    "def splitIntoTestAndTrain(dataFrame,splitBy):\n",
    "    rand = list(range(len(dataFrame)))\n",
    "    div = int(len(dataFrame) * splitBy)\n",
    "    rd.shuffle(rand)\n",
    "    train_df_index = rand[:div]\n",
    "    test_df_index = rand[div:]\n",
    "    train_df = dataFrame.iloc[train_df_index, :]\n",
    "    test_df = dataFrame.iloc[test_df_index, :]\n",
    "    return train_df,test_df;"
   ]
  },
  {
   "cell_type": "code",
   "execution_count": 11,
   "metadata": {
    "collapsed": false
   },
   "outputs": [],
   "source": [
    "#Best SVM Classifier\n",
    "from sklearn import svm, datasets\n",
    "from sklearn.model_selection import GridSearchCV\n",
    "from sklearn import svm, grid_search\n",
    "def svc_param_selection(X, y, nfolds):\n",
    "    param_grid = [{'C': [1, 10, 100, 1000], 'kernel': ['linear']},{'C': [1, 10, 100, 1000], 'gamma': [0.001, 0.0001], 'kernel': ['rbf']}]\n",
    "    grid_search = GridSearchCV(svm.SVC(probability=True), param_grid, cv=nfolds)\n",
    "    grid_search.fit(X, y)\n",
    "    return grid_search.best_estimator_"
   ]
  },
  {
   "cell_type": "code",
   "execution_count": 12,
   "metadata": {
    "collapsed": true
   },
   "outputs": [],
   "source": [
    "def reportCard(y_true, y_pred, y_proba,name):\n",
    "    from sklearn import metrics\n",
    "    import matplotlib.pyplot as plt\n",
    "    %matplotlib inline\n",
    "    print('\\nReport for:',name)\n",
    "    target_names = ['low', 'high']\n",
    "    print(metrics.classification_report(y_true, y_pred, target_names=target_names))\n",
    "    print(\"Confusion Matrix\\n\",metrics.confusion_matrix(y_true,y_pred))\n",
    "    print(\"F1 Score:\",metrics.f1_score(y_true,y_pred))\n",
    "    print(\"Accuracy:\",metrics.accuracy_score(y_true,y_pred))\n",
    "    print(\"Log Loss:\",metrics.log_loss(y_true,y_pred))\n",
    "    print(\"AUC Score:\",metrics.roc_auc_score(y_true,y_proba[:,1]))\n",
    "    fpr,tpr,thresholds = metrics.roc_curve(y_true,y_proba[:,1])\n",
    "    plt.figure(1)\n",
    "    plt.plot([0, 1], [0, 1], 'k--')\n",
    "    plt.plot(fpr, tpr)\n",
    "    plt.xlabel('False positive rate')\n",
    "    plt.ylabel('True positive rate')\n",
    "    plt.title('ROC curve for {}'.format(name))\n",
    "    plt.legend(loc='best')\n",
    "    plt.show()"
   ]
  },
  {
   "cell_type": "code",
   "execution_count": 13,
   "metadata": {
    "collapsed": true
   },
   "outputs": [],
   "source": [
    "def svm_run(filename):\n",
    "    print(\"\\nRunning for\",filename)\n",
    "    df = preprocess(filename)\n",
    "    print(\"dataset size is:\",df.shape)\n",
    "    print(\"columns:\",df.columns)\n",
    "    train,test=splitIntoTestAndTrain(df,0.8)\n",
    "    print(\"\\nSVM\")\n",
    "    best_svm = svc_param_selection(train.drop('ScoreLabel', 1),train['ScoreLabel'],5)\n",
    "    grid_svm_pred = best_svm.predict(test.drop('ScoreLabel', 1))\n",
    "    grid_svm_pred_prob = best_svm.predict_proba(test.drop('ScoreLabel', 1))\n",
    "    print(\"*****BOF: {}*****\".format(filename))\n",
    "    reportCard(test['ScoreLabel'], grid_svm_pred, grid_svm_pred_prob,'GridSearched SVM')\n",
    "    print(\"*****EOF: {}*****\".format(filename))"
   ]
  },
  {
   "cell_type": "code",
   "execution_count": 14,
   "metadata": {
    "collapsed": false
   },
   "outputs": [
    {
     "name": "stdout",
     "output_type": "stream",
     "text": [
      "\n",
      "Running for ai_posts_with_readibility_measures\n",
      "dataset size is: (1680, 10)\n",
      "columns: Index(['Flesch_Reading_Ease_Value', 'Coleman_Liau_Index_Value',\n",
      "       'Dale_Chall_Readability_Score', 'Code_Count', 'Latex_Count',\n",
      "       'Text_Length', 'Punc_Rate', 'Polarity', 'Subjectivity', 'ScoreLabel'],\n",
      "      dtype='object')\n",
      "\n",
      "SVM\n",
      "*****BOF: ai_posts_with_readibility_measures*****\n",
      "\n",
      "Report for: GridSearched SVM\n",
      "             precision    recall  f1-score   support\n",
      "\n",
      "        low       0.61      0.96      0.75       205\n",
      "       high       0.44      0.05      0.10       131\n",
      "\n",
      "avg / total       0.54      0.60      0.49       336\n",
      "\n",
      "Confusion Matrix\n",
      " [[196   9]\n",
      " [124   7]]\n",
      "F1 Score: 0.0952380952381\n",
      "Accuracy: 0.604166666667\n",
      "Log Loss: 13.6716204074\n",
      "AUC Score: 0.523291752001\n"
     ]
    },
    {
     "name": "stderr",
     "output_type": "stream",
     "text": [
      "/Users/amanmahato/anaconda3/lib/python3.6/site-packages/matplotlib/axes/_axes.py:545: UserWarning: No labelled objects found. Use label='...' kwarg on individual plots.\n",
      "  warnings.warn(\"No labelled objects found. \"\n"
     ]
    },
    {
     "data": {
      "image/png": "[encoded data removed]",
      "text/plain": [
       "<matplotlib.figure.Figure at 0x11a2910f0>"
      ]
     },
     "metadata": {},
     "output_type": "display_data"
    },
    {
     "name": "stdout",
     "output_type": "stream",
     "text": [
      "*****EOF: ai_posts_with_readibility_measures*****\n"
     ]
    }
   ],
   "source": [
    "svm_run(\"ai_posts_with_readibility_measures\")"
   ]
  },
  {
   "cell_type": "code",
   "execution_count": null,
   "metadata": {
    "collapsed": false
   },
   "outputs": [
    {
     "name": "stdout",
     "output_type": "stream",
     "text": [
      "\n",
      "Running for iot_posts_with_readibility_measures\n",
      "dataset size is: (1048, 10)\n",
      "columns: Index(['Flesch_Reading_Ease_Value', 'Coleman_Liau_Index_Value',\n",
      "       'Dale_Chall_Readability_Score', 'Code_Count', 'Latex_Count',\n",
      "       'Text_Length', 'Punc_Rate', 'Polarity', 'Subjectivity', 'ScoreLabel'],\n",
      "      dtype='object')\n",
      "\n",
      "SVM\n",
      "*****BOF: iot_posts_with_readibility_measures*****\n",
      "\n",
      "Report for: GridSearched SVM\n",
      "             precision    recall  f1-score   support\n",
      "\n",
      "        low       0.61      0.48      0.54        95\n",
      "       high       0.64      0.75      0.69       115\n",
      "\n",
      "avg / total       0.63      0.63      0.62       210\n",
      "\n",
      "Confusion Matrix\n",
      " [[46 49]\n",
      " [29 86]]\n",
      "F1 Score: 0.688\n",
      "Accuracy: 0.628571428571\n",
      "Log Loss: 12.828874948\n",
      "AUC Score: 0.61528604119\n"
     ]
    },
    {
     "name": "stderr",
     "output_type": "stream",
     "text": [
      "/Users/amanmahato/anaconda3/lib/python3.6/site-packages/matplotlib/axes/_axes.py:545: UserWarning: No labelled objects found. Use label='...' kwarg on individual plots.\n",
      "  warnings.warn(\"No labelled objects found. \"\n"
     ]
    },
    {
     "data": {
      "image/png": "[encoded data removed]",
      "text/plain": [
       "<matplotlib.figure.Figure at 0x11a790198>"
      ]
     },
     "metadata": {},
     "output_type": "display_data"
    },
    {
     "name": "stdout",
     "output_type": "stream",
     "text": [
      "*****EOF: iot_posts_with_readibility_measures*****\n"
     ]
    }
   ],
   "source": [
    "svm_run(\"iot_posts_with_readibility_measures\")"
   ]
  }
 ],
 "metadata": {
  "kernelspec": {
   "display_name": "Python 3",
   "language": "python",
   "name": "python3"
  },
  "language_info": {
   "codemirror_mode": {
    "name": "ipython",
    "version": 3
   },
   "file_extension": ".py",
   "mimetype": "text/x-python",
   "name": "python",
   "nbconvert_exporter": "python",
   "pygments_lexer": "ipython3",
   "version": "3.6.0"
  }
 },
 "nbformat": 4,
 "nbformat_minor": 2
}
