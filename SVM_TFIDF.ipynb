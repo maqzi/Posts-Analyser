{
 "cells": [
  {
   "cell_type": "code",
   "execution_count": 2,
   "metadata": {
    "collapsed": true
   },
   "outputs": [],
   "source": [
    "import pandas as pd\n",
    "import numpy as np\n",
    "import random as rd\n",
    "from sklearn.svm import SVC\n",
    "from sklearn import metrics\n",
    "from sklearn.metrics import accuracy_score\n",
    "from sklearn.feature_extraction.text import CountVectorizer, TfidfVectorizer"
   ]
  },
  {
   "cell_type": "code",
   "execution_count": 3,
   "metadata": {
    "collapsed": true
   },
   "outputs": [],
   "source": [
    "# Split Data Into Train and Test Data\n",
    "def splitIntoTestAndTrain(dataFrame,splitBy):\n",
    "    rand = list(range(len(dataFrame)))\n",
    "    div = int(len(dataFrame) * splitBy)\n",
    "    rd.shuffle(rand)\n",
    "    train_df_index = rand[:div]\n",
    "    test_df_index = rand[div:]\n",
    "    train_df = dataFrame.iloc[train_df_index, :]\n",
    "    test_df = dataFrame.iloc[test_df_index, :]\n",
    "    return train_df,test_df;"
   ]
  },
  {
   "cell_type": "code",
   "execution_count": 4,
   "metadata": {
    "collapsed": false
   },
   "outputs": [
    {
     "name": "stderr",
     "output_type": "stream",
     "text": [
      "/Users/amanmahato/anaconda3/lib/python3.6/site-packages/sklearn/cross_validation.py:44: DeprecationWarning: This module was deprecated in version 0.18 in favor of the model_selection module into which all the refactored classes and functions are moved. Also note that the interface of the new CV iterators are different from that of this module. This module will be removed in 0.20.\n",
      "  \"This module will be removed in 0.20.\", DeprecationWarning)\n",
      "/Users/amanmahato/anaconda3/lib/python3.6/site-packages/sklearn/grid_search.py:43: DeprecationWarning: This module was deprecated in version 0.18 in favor of the model_selection module into which all the refactored classes and functions are moved. This module will be removed in 0.20.\n",
      "  DeprecationWarning)\n"
     ]
    }
   ],
   "source": [
    "#Best SVM Classifier\n",
    "from sklearn import svm, datasets\n",
    "from sklearn.model_selection import GridSearchCV\n",
    "from sklearn import svm, grid_search\n",
    "def svc_param_selection(X, y, nfolds):\n",
    "    param_grid = [{'kernel': ['rbf'], 'gamma': [1e-3, 1e-4],\n",
    "                     'C': [10.**i for i in np.arange(-2,2)]},\n",
    "                    {'kernel': ['linear'], 'C': [10.**i for i in np.arange(-2,2)]}]\n",
    "    grid_search = GridSearchCV(svm.SVC(probability=True), param_grid, cv=nfolds)\n",
    "    grid_search.fit(X, y)\n",
    "    return grid_search.best_estimator_"
   ]
  },
  {
   "cell_type": "code",
   "execution_count": 11,
   "metadata": {
    "collapsed": true
   },
   "outputs": [],
   "source": [
    "def reportCard(y_true, y_pred, y_proba,name):\n",
    "    from sklearn import metrics\n",
    "    import matplotlib.pyplot as plt\n",
    "    %matplotlib inline\n",
    "    print('\\nReport for:',name)\n",
    "    target_names = ['low', 'high']\n",
    "    print(metrics.classification_report(y_true, y_pred, target_names=target_names))\n",
    "    print(\"Confusion Matrix\\n\",metrics.confusion_matrix(y_true,y_pred))\n",
    "    print(\"F1 Score:\",metrics.f1_score(y_true,y_pred))\n",
    "    print(\"Accuracy:\",metrics.accuracy_score(y_true,y_pred))\n",
    "    print(\"Log Loss:\",metrics.log_loss(y_true,y_pred))\n",
    "    print(\"AUC Score:\",metrics.roc_auc_score(y_true,y_proba[:,1]))\n",
    "    fpr,tpr,thresholds = metrics.roc_curve(y_true,y_proba[:,1])\n",
    "    plt.figure(1)\n",
    "    plt.plot([0, 1], [0, 1], 'k--')\n",
    "    plt.plot(fpr, tpr)\n",
    "    plt.xlabel('False positive rate')\n",
    "    plt.ylabel('True positive rate')\n",
    "    plt.title('ROC curve for {}'.format(name))\n",
    "    plt.legend(loc='best')\n",
    "    plt.show()"
   ]
  },
  {
   "cell_type": "code",
   "execution_count": 12,
   "metadata": {
    "collapsed": true
   },
   "outputs": [],
   "source": [
    "def svm_run(filename):\n",
    "    print(\"\\nRunning for\",filename)\n",
    "    df = pd.read_csv(filename+'.csv', sep=\",\")\n",
    "    if df.shape[0]>5000:\n",
    "        df = df[:5000]\n",
    "    print(\"dataset size is:\",df.shape)\n",
    "    print(\"columns:\",df.columns)\n",
    "    print(\"\\nSVM\")\n",
    "    #vectorization\n",
    "    df = df.ix[:,['Clean_Text']+['ScoreLabel']]\n",
    "    df = df.dropna()\n",
    "    outc = df.ix[:,'ScoreLabel']\n",
    "    row = df.shape[0]\n",
    "    istest = np.repeat(np.repeat([False,True],[9,1]), 1+row/10)[:row]\n",
    "    np.random.shuffle(istest)\n",
    "    vect = TfidfVectorizer()\n",
    "    fitted = vect.fit_transform(df.ix[~istest,'Clean_Text'])\n",
    "    test = vect.transform(df.ix[istest,'Clean_Text'])\n",
    "    best_svm = svc_param_selection(fitted, outc[~istest],5)#check validation\n",
    "    grid_svm_pred = best_svm.predict(test)\n",
    "    grid_svm_pred_prob = best_svm.predict_proba(test)\n",
    "    print(\"*****BOF: {}*****\".format(filename))\n",
    "    reportCard(outc[istest], grid_svm_pred, grid_svm_pred_prob,'GridSearched SVM With TFIDF')\n",
    "    print(\"*****EOF: {}*****\".format(filename))"
   ]
  },
  {
   "cell_type": "code",
   "execution_count": 9,
   "metadata": {
    "collapsed": false
   },
   "outputs": [
    {
     "name": "stdout",
     "output_type": "stream",
     "text": [
      "\n",
      "Running for iot_posts_with_readibility_measures_score_adj\n",
      "dataset size is: (1140, 31)\n",
      "columns: Index(['AcceptedAnswerId', 'AnswerCount', 'Body', 'ClosedDate', 'CommentCount',\n",
      "       'CommunityOwnedDate', 'CreationDate', 'FavoriteCount', 'Id',\n",
      "       'LastActivityDate', 'LastEditDate', 'LastEditorUserId',\n",
      "       'OwnerDisplayName', 'OwnerUserId', 'ParentId', 'PostTypeId', 'Score',\n",
      "       'Tags', 'Title', 'ViewCount', 'Flesch_Reading_Ease_Value',\n",
      "       'Coleman_Liau_Index_Value', 'Dale_Chall_Readability_Score',\n",
      "       'Code_Count', 'Latex_Count', 'Clean_Text', 'Text_Length', 'Punc_Rate',\n",
      "       'Polarity', 'Subjectivity', 'ScoreLabel'],\n",
      "      dtype='object')\n",
      "\n",
      "SVM\n",
      "*****BOF: iot_posts_with_readibility_measures_score_adj*****\n",
      "\n",
      "Report for: GridSearched SVM With TFIDF\n",
      "             precision    recall  f1-score   support\n",
      "\n",
      "        low       1.00      0.66      0.79        29\n",
      "       high       0.88      1.00      0.94        74\n",
      "\n",
      "avg / total       0.91      0.90      0.90       103\n",
      "\n",
      "Confusion Matrix\n",
      " [[19 10]\n",
      " [ 0 74]]\n",
      "F1 Score: 0.936708860759\n",
      "Accuracy: 0.902912621359\n",
      "Log Loss: 3.35335689246\n",
      "AUC Score: 0.852749301025\n"
     ]
    },
    {
     "name": "stderr",
     "output_type": "stream",
     "text": [
      "/Users/amanmahato/anaconda3/lib/python3.6/site-packages/matplotlib/axes/_axes.py:545: UserWarning: No labelled objects found. Use label='...' kwarg on individual plots.\n",
      "  warnings.warn(\"No labelled objects found. \"\n"
     ]
    },
    {
     "data": {
      "image/png": "[encoded data removed]",
      "text/plain": [
       "<matplotlib.figure.Figure at 0x11b086f60>"
      ]
     },
     "metadata": {},
     "output_type": "display_data"
    },
    {
     "name": "stdout",
     "output_type": "stream",
     "text": [
      "*****EOF: iot_posts_with_readibility_measures_score_adj*****\n"
     ]
    }
   ],
   "source": [
    "svm_run(\"iot_posts_with_readibility_measures_score_adj\")"
   ]
  },
  {
   "cell_type": "code",
   "execution_count": 10,
   "metadata": {
    "collapsed": false
   },
   "outputs": [
    {
     "name": "stdout",
     "output_type": "stream",
     "text": [
      "\n",
      "Running for ai_posts_with_readibility_measures_score_adj\n",
      "dataset size is: (1735, 31)\n",
      "columns: Index(['AcceptedAnswerId', 'AnswerCount', 'Body', 'ClosedDate', 'CommentCount',\n",
      "       'CreationDate', 'FavoriteCount', 'Id', 'LastActivityDate',\n",
      "       'LastEditDate', 'LastEditorDisplayName', 'LastEditorUserId',\n",
      "       'OwnerDisplayName', 'OwnerUserId', 'ParentId', 'PostTypeId', 'Score',\n",
      "       'Tags', 'Title', 'ViewCount', 'Flesch_Reading_Ease_Value',\n",
      "       'Coleman_Liau_Index_Value', 'Dale_Chall_Readability_Score',\n",
      "       'Code_Count', 'Latex_Count', 'Clean_Text', 'Text_Length', 'Punc_Rate',\n",
      "       'Polarity', 'Subjectivity', 'ScoreLabel'],\n",
      "      dtype='object')\n",
      "\n",
      "SVM\n",
      "*****BOF: ai_posts_with_readibility_measures_score_adj*****\n",
      "\n",
      "Report for: GridSearched SVM With TFIDF\n",
      "             precision    recall  f1-score   support\n",
      "\n",
      "        low       0.64      1.00      0.78       101\n",
      "       high       0.00      0.00      0.00        58\n",
      "\n",
      "avg / total       0.40      0.64      0.49       159\n",
      "\n",
      "Confusion Matrix\n",
      " [[101   0]\n",
      " [ 58   0]]\n",
      "F1 Score: 0.0\n",
      "Accuracy: 0.635220125786\n",
      "Log Loss: 12.5990505088\n",
      "AUC Score: 0.625981563674\n"
     ]
    },
    {
     "name": "stderr",
     "output_type": "stream",
     "text": [
      "/Users/amanmahato/anaconda3/lib/python3.6/site-packages/sklearn/metrics/classification.py:1113: UndefinedMetricWarning: Precision and F-score are ill-defined and being set to 0.0 in labels with no predicted samples.\n",
      "  'precision', 'predicted', average, warn_for)\n",
      "/Users/amanmahato/anaconda3/lib/python3.6/site-packages/sklearn/metrics/classification.py:1113: UndefinedMetricWarning: F-score is ill-defined and being set to 0.0 due to no predicted samples.\n",
      "  'precision', 'predicted', average, warn_for)\n",
      "/Users/amanmahato/anaconda3/lib/python3.6/site-packages/matplotlib/axes/_axes.py:545: UserWarning: No labelled objects found. Use label='...' kwarg on individual plots.\n",
      "  warnings.warn(\"No labelled objects found. \"\n"
     ]
    },
    {
     "data": {
      "image/png": "[encoded data removed]",
      "text/plain": [
       "<matplotlib.figure.Figure at 0x11bf16320>"
      ]
     },
     "metadata": {},
     "output_type": "display_data"
    },
    {
     "name": "stdout",
     "output_type": "stream",
     "text": [
      "*****EOF: ai_posts_with_readibility_measures_score_adj*****\n"
     ]
    }
   ],
   "source": [
    "svm_run(\"ai_posts_with_readibility_measures_score_adj\")"
   ]
  },
  {
   "cell_type": "code",
   "execution_count": 13,
   "metadata": {
    "collapsed": false
   },
   "outputs": [
    {
     "name": "stdout",
     "output_type": "stream",
     "text": [
      "\n",
      "Running for stats_posts_with_readibility_measures_score_adj\n",
      "dataset size is: (5000, 32)\n",
      "columns: Index(['AcceptedAnswerId', 'AnswerCount', 'Body', 'ClosedDate', 'CommentCount',\n",
      "       'CommunityOwnedDate', 'CreationDate', 'FavoriteCount', 'Id',\n",
      "       'LastActivityDate', 'LastEditDate', 'LastEditorDisplayName',\n",
      "       'LastEditorUserId', 'OwnerDisplayName', 'OwnerUserId', 'ParentId',\n",
      "       'PostTypeId', 'Score', 'Tags', 'Title', 'ViewCount',\n",
      "       'Flesch_Reading_Ease_Value', 'Coleman_Liau_Index_Value',\n",
      "       'Dale_Chall_Readability_Score', 'Code_Count', 'Latex_Count',\n",
      "       'Clean_Text', 'Text_Length', 'Punc_Rate', 'Polarity', 'Subjectivity',\n",
      "       'ScoreLabel'],\n",
      "      dtype='object')\n",
      "\n",
      "SVM\n",
      "*****BOF: stats_posts_with_readibility_measures_score_adj*****\n",
      "\n",
      "Report for: GridSearched SVM With TFIDF\n",
      "             precision    recall  f1-score   support\n",
      "\n",
      "        low       0.00      0.00      0.00       126\n",
      "       high       0.75      1.00      0.85       369\n",
      "\n",
      "avg / total       0.56      0.75      0.64       495\n",
      "\n",
      "Confusion Matrix\n",
      " [[  0 126]\n",
      " [  0 369]]\n",
      "F1 Score: 0.854166666667\n",
      "Accuracy: 0.745454545455\n",
      "Log Loss: 8.79189207078\n",
      "AUC Score: 0.531014754592\n"
     ]
    },
    {
     "name": "stderr",
     "output_type": "stream",
     "text": [
      "/Users/amanmahato/anaconda3/lib/python3.6/site-packages/sklearn/metrics/classification.py:1113: UndefinedMetricWarning: Precision and F-score are ill-defined and being set to 0.0 in labels with no predicted samples.\n",
      "  'precision', 'predicted', average, warn_for)\n",
      "/Users/amanmahato/anaconda3/lib/python3.6/site-packages/matplotlib/axes/_axes.py:545: UserWarning: No labelled objects found. Use label='...' kwarg on individual plots.\n",
      "  warnings.warn(\"No labelled objects found. \"\n"
     ]
    },
    {
     "data": {
      "image/png": "[encoded data removed]",
      "text/plain": [
       "<matplotlib.figure.Figure at 0x11baace10>"
      ]
     },
     "metadata": {},
     "output_type": "display_data"
    },
    {
     "name": "stdout",
     "output_type": "stream",
     "text": [
      "*****EOF: stats_posts_with_readibility_measures_score_adj*****\n"
     ]
    }
   ],
   "source": [
    "svm_run(\"stats_posts_with_readibility_measures_score_adj\")\n"
   ]
  },
  {
   "cell_type": "code",
   "execution_count": null,
   "metadata": {
    "collapsed": true
   },
   "outputs": [],
   "source": []
  }
 ],
 "metadata": {
  "kernelspec": {
   "display_name": "Python 3",
   "language": "python",
   "name": "python3"
  },
  "language_info": {
   "codemirror_mode": {
    "name": "ipython",
    "version": 3
   },
   "file_extension": ".py",
   "mimetype": "text/x-python",
   "name": "python",
   "nbconvert_exporter": "python",
   "pygments_lexer": "ipython3",
   "version": "3.6.0"
  }
 },
 "nbformat": 4,
 "nbformat_minor": 2
}
